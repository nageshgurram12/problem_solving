{
 "cells": [
  {
   "cell_type": "markdown",
   "metadata": {},
   "source": [
    "### Linear Regression based on Guassian model\n",
    "\n",
    "input data : Slump test for concrete (http://archive.ics.uci.edu/ml/datasets/Condition+Based+Maintenance+of+Naval+Propulsion+Plants# )"
   ]
  },
  {
   "cell_type": "code",
   "execution_count": 1,
   "metadata": {},
   "outputs": [],
   "source": [
    "import pandas as pd\n",
    "import numpy as np\n",
    "from sklearn.model_selection import train_test_split\n",
    "from numpy.linalg import inv\n",
    "from numpy.linalg import matrix_rank\n",
    "from sklearn.metrics import explained_variance_score"
   ]
  },
  {
   "cell_type": "markdown",
   "metadata": {},
   "source": [
    "#### Read input data:"
   ]
  },
  {
   "cell_type": "code",
   "execution_count": 2,
   "metadata": {},
   "outputs": [],
   "source": [
    "ip_data = pd.read_csv(\"slump_test.data\")\n",
    "ip_data = ip_data.set_index(\"No\")"
   ]
  },
  {
   "cell_type": "markdown",
   "metadata": {},
   "source": [
    "#### Divide the input data into two sets as samples for input and output random vectors :\n",
    "\n",
    "Output random vector represents last three columns and input is the remaining columns"
   ]
  },
  {
   "cell_type": "code",
   "execution_count": 3,
   "metadata": {},
   "outputs": [],
   "source": [
    "x_size = 7\n",
    "y_size = 3\n",
    "total_vars = x_size+y_size\n",
    "input_dist = ip_data.iloc[:, 0:x_size]\n",
    "output_dist = ip_data.iloc[:, x_size:total_vars]\n",
    "\n",
    "X_train, X_test, Y_train, Y_test = train_test_split(input_dist.values, output_dist.values, test_size=0.2, random_state=1)"
   ]
  },
  {
   "cell_type": "markdown",
   "metadata": {},
   "source": [
    "### Get the parameters for the conditional Gaussian p(Y/X=x):"
   ]
  },
  {
   "cell_type": "code",
   "execution_count": 4,
   "metadata": {},
   "outputs": [],
   "source": [
    "#First get the parameters for joint gaussian using method of moments\n",
    "mu_Y = Y_train.mean(axis=0)\n",
    "mu_X = X_train.mean(axis=0)\n",
    "input_cov_matrix = np.cov(np.transpose(np.concatenate([X_train,Y_train], axis=1)))\n",
    "cov_XX = input_cov_matrix[0:x_size, 0:x_size]\n",
    "cov_XY = input_cov_matrix[0:x_size, x_size:total_vars]\n",
    "cov_YX = input_cov_matrix[x_size:total_vars, 0:x_size]\n",
    "cov_YY = input_cov_matrix[x_size:total_vars, x_size:total_vars]"
   ]
  },
  {
   "cell_type": "markdown",
   "metadata": {},
   "source": [
    "#### Covariance parameter for p(Y/X=x):"
   ]
  },
  {
   "cell_type": "code",
   "execution_count": 5,
   "metadata": {},
   "outputs": [],
   "source": [
    "cov_Y_x = cov_YY - np.dot(np.dot(cov_YX, inv(cov_XX)), cov_XY)"
   ]
  },
  {
   "cell_type": "markdown",
   "metadata": {},
   "source": [
    "#### Mean parameter for p(Y/X=x):"
   ]
  },
  {
   "cell_type": "code",
   "execution_count": 6,
   "metadata": {},
   "outputs": [],
   "source": [
    "def estimate_Y_given_x_mean(x):\n",
    "    '''\n",
    "    When sample x is given , find the estimated mean of y/x with formula\n",
    "    mu(y/x) = mu(y) + Cov(y,X) * Cov(X,X) * (x - mu(X))\n",
    "    '''\n",
    "    global cov_XX, cov_YX, mu_Y, mu_X\n",
    "    return (mu_Y + np.dot(np.dot(cov_YX, inv(cov_XX)), (x-mu_X)))"
   ]
  },
  {
   "cell_type": "markdown",
   "metadata": {},
   "source": [
    "#### Estimate parameters for test data using the p(Y/X=x):"
   ]
  },
  {
   "cell_type": "code",
   "execution_count": 7,
   "metadata": {},
   "outputs": [
    {
     "name": "stdout",
     "output_type": "stream",
     "text": [
      "Explained variance for Y0 : 0.3635419587805233\n",
      "Explained variance for Y1 : 0.5255239777932958\n",
      "Explained variance for Y2 : 0.8784326202684619\n"
     ]
    }
   ],
   "source": [
    "Y_predicted = np.apply_along_axis(estimate_Y_given_x_mean, 1, X_test)\n",
    "for i in range(Y_test.shape[1]):\n",
    "    print(\"Explained variance for Y{0} : {1}\".format(i,explained_variance_score(Y_test[:,i], Y_predicted[:,i])))"
   ]
  },
  {
   "cell_type": "code",
   "execution_count": null,
   "metadata": {},
   "outputs": [],
   "source": []
  }
 ],
 "metadata": {
  "kernelspec": {
   "display_name": "Python 3",
   "language": "python",
   "name": "python3"
  },
  "language_info": {
   "codemirror_mode": {
    "name": "ipython",
    "version": 3
   },
   "file_extension": ".py",
   "mimetype": "text/x-python",
   "name": "python",
   "nbconvert_exporter": "python",
   "pygments_lexer": "ipython3",
   "version": "3.6.5"
  }
 },
 "nbformat": 4,
 "nbformat_minor": 2
}
