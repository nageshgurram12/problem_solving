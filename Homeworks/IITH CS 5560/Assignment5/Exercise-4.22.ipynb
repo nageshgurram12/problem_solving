{
 "cells": [
  {
   "cell_type": "markdown",
   "metadata": {},
   "source": [
    "### Exercise 4.22 Classification with Gaussian QDA with uniform priors"
   ]
  },
  {
   "cell_type": "code",
   "execution_count": 1,
   "metadata": {},
   "outputs": [],
   "source": [
    "import numpy as np"
   ]
  },
  {
   "cell_type": "code",
   "execution_count": 2,
   "metadata": {},
   "outputs": [],
   "source": [
    "mu_1 = np.array([0,0])\n",
    "mu_2 = np.array([1,1])\n",
    "mu_3 = np.array([-1,-1])\n",
    "\n",
    "sigma_1 = np.array([[0.7, 0], [0,0.7]])\n",
    "sigma_2 = np.array([[0.8, 0.2], [0.2, 0.8]])\n",
    "sigma_3 = np.array([[0.8, 0.2], [0.2, 0.8]])\n",
    "\n",
    "ip_1 = np.array([-0.5, 0.5])\n",
    "ip_2 = np.array([0.5, 0.5])"
   ]
  },
  {
   "cell_type": "markdown",
   "metadata": {},
   "source": [
    "As classes have uniform prior we can check only class \n",
    "conditional densities to get the max probabilities of each class"
   ]
  },
  {
   "cell_type": "code",
   "execution_count": 9,
   "metadata": {},
   "outputs": [
    {
     "name": "stdout",
     "output_type": "stream",
     "text": [
      "Class for X1 : 1 Class for X2: 2\n"
     ]
    }
   ],
   "source": [
    "def classify_point(point):\n",
    "    cls1_posterior = np.linalg.det(sigma_1) + np.dot(np.dot((point-mu_1).T, np.linalg.inv(sigma_1)), (point-mu_1))\n",
    "    cls2_posterior = np.linalg.det(sigma_2) + np.dot(np.dot((point-mu_2).T, np.linalg.inv(sigma_2)), (point-mu_2))\n",
    "    cls3_posterior = np.linalg.det(sigma_3) + np.dot(np.dot((point-mu_3).T, np.linalg.inv(sigma_3)), (point-mu_3))\n",
    "    return np.argmin(np.array([cls1_posterior, cls2_posterior, cls3_posterior])) + 1\n",
    "\n",
    "ip_1_cls = classify_point(ip_1)\n",
    "ip_2_cls = classify_point(ip_2)\n",
    "print(\"Class for X1 : \" + str(ip_1_cls) + \" Class for X2: \" + str(ip_2_cls))"
   ]
  },
  {
   "cell_type": "code",
   "execution_count": null,
   "metadata": {},
   "outputs": [],
   "source": []
  }
 ],
 "metadata": {
  "kernelspec": {
   "display_name": "Python 3",
   "language": "python",
   "name": "python3"
  },
  "language_info": {
   "codemirror_mode": {
    "name": "ipython",
    "version": 3
   },
   "file_extension": ".py",
   "mimetype": "text/x-python",
   "name": "python",
   "nbconvert_exporter": "python",
   "pygments_lexer": "ipython3",
   "version": "3.6.5"
  }
 },
 "nbformat": 4,
 "nbformat_minor": 2
}
