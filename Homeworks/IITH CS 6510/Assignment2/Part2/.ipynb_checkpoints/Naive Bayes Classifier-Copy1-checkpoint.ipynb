{
 "cells": [
  {
   "cell_type": "markdown",
   "metadata": {},
   "source": [
    "### 2. Naive Bayes Classifier for fortune cookie messages"
   ]
  },
  {
   "cell_type": "code",
   "execution_count": 4,
   "metadata": {},
   "outputs": [],
   "source": [
    "import numpy as np\n",
    "import pandas as pd\n",
    "from scipy.sparse import hstack\n",
    "from sklearn.feature_extraction.text import CountVectorizer"
   ]
  },
  {
   "cell_type": "markdown",
   "metadata": {},
   "source": [
    "Utility function to read the file and convert into list of lines"
   ]
  },
  {
   "cell_type": "code",
   "execution_count": 5,
   "metadata": {},
   "outputs": [],
   "source": [
    "def read_file(file_name):\n",
    "    with open(file_name) as f:\n",
    "        lines_list = f.readlines()\n",
    "    lines_list = [x.strip() for x in lines_list]\n",
    "    return lines_list"
   ]
  },
  {
   "cell_type": "markdown",
   "metadata": {},
   "source": [
    "#### Pre-processing step1: Build vocabulary by removing stop words"
   ]
  },
  {
   "cell_type": "code",
   "execution_count": 6,
   "metadata": {},
   "outputs": [],
   "source": [
    "stop_words_list = read_file(\"stoplist\")\n",
    "vectorizer = CountVectorizer(stop_words=stop_words_list, analyzer='word', binary=True)"
   ]
  },
  {
   "cell_type": "markdown",
   "metadata": {},
   "source": [
    "#### Pre-processing step2: Transform input messages into message-word binary matrix"
   ]
  },
  {
   "cell_type": "code",
   "execution_count": 7,
   "metadata": {},
   "outputs": [],
   "source": [
    "training_messages = read_file('traindata')\n",
    "vectorizer = vectorizer.fit(training_messages)\n",
    "msg_word_matrix = vectorizer.transform(training_messages)\n",
    "\n",
    "#Read the traning labels and attach as last column to word-doc matrix\n",
    "labels = np.array([read_file(\"trainlabels\")], dtype='int64').ravel()\n",
    "msg_word_label_matrix = hstack([msg_word_matrix, np.reshape(labels,(labels.size,1))])"
   ]
  },
  {
   "cell_type": "markdown",
   "metadata": {},
   "source": [
    "#### Pre-processing step3: Save the message-word matrix into a file"
   ]
  },
  {
   "cell_type": "code",
   "execution_count": 8,
   "metadata": {},
   "outputs": [],
   "source": [
    "words = vectorizer.get_feature_names()\n",
    "words.append('label')\n",
    "\n",
    "msg_word_df = pd.DataFrame(msg_word_label_matrix.toarray(), columns=words)\n",
    "msg_word_df.to_csv(\"preprocessed.txt\", index=False)"
   ]
  },
  {
   "cell_type": "markdown",
   "metadata": {},
   "source": [
    "### Classify test messages using Naive bayes \n",
    "\n",
    "As each word as feature\n",
    "is binary, we treat it as bernouli r.v, so we use BernouliNB classifier"
   ]
  },
  {
   "cell_type": "code",
   "execution_count": 9,
   "metadata": {},
   "outputs": [
    {
     "data": {
      "text/plain": [
       "0.8153846153846154"
      ]
     },
     "execution_count": 9,
     "metadata": {},
     "output_type": "execute_result"
    }
   ],
   "source": [
    "from sklearn.model_selection import train_test_split\n",
    "from sklearn.naive_bayes import BernoulliNB\n",
    "from sklearn.metrics import accuracy_score\n",
    "\n",
    "X_train, X_test, y_train, y_test = train_test_split(msg_word_matrix, labels, test_size=0.2, stratify=labels)\n",
    "ber_nb = BernoulliNB()\n",
    "ber_nb.fit(X_train, y_train)\n",
    "y_predicted = ber_nb.predict(X_test)\n",
    "accuracy_score(y_test, y_predicted)"
   ]
  },
  {
   "cell_type": "markdown",
   "metadata": {},
   "source": [
    "Save the test results into results.txt"
   ]
  },
  {
   "cell_type": "code",
   "execution_count": 10,
   "metadata": {},
   "outputs": [],
   "source": [
    "test_messages = read_file('testdata')\n",
    "test_msg_word_matrix = vectorizer.transform(test_messages)\n",
    "predicted_labels = ber_nb.predict(test_msg_word_matrix)\n",
    "np.savetxt(\"results.txt\", predicted_labels, newline=\"\\n\", fmt=\"%s\")"
   ]
  },
  {
   "cell_type": "code",
   "execution_count": null,
   "metadata": {},
   "outputs": [],
   "source": []
  }
 ],
 "metadata": {
  "kernelspec": {
   "display_name": "Python 3",
   "language": "python",
   "name": "python3"
  },
  "language_info": {
   "codemirror_mode": {
    "name": "ipython",
    "version": 3
   },
   "file_extension": ".py",
   "mimetype": "text/x-python",
   "name": "python",
   "nbconvert_exporter": "python",
   "pygments_lexer": "ipython3",
   "version": "3.6.5"
  }
 },
 "nbformat": 4,
 "nbformat_minor": 2
}
