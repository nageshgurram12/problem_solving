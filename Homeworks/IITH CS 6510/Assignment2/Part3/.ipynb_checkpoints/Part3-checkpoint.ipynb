{
 "cells": [
  {
   "cell_type": "markdown",
   "metadata": {},
   "source": [
    "#### Read input data :"
   ]
  },
  {
   "cell_type": "code",
   "execution_count": 1,
   "metadata": {},
   "outputs": [
    {
     "name": "stdout",
     "output_type": "stream",
     "text": [
      "Melanoma\n",
      "\n",
      "PyDataset Documentation (adopted from R Documentation. The displayed examples are in R)\n",
      "\n",
      "##  Survival from Malignant Melanoma\n",
      "\n",
      "### Description\n",
      "\n",
      "The `Melanoma` data frame has data on 205 patients in Denmark with malignant\n",
      "melanoma.\n",
      "\n",
      "### Usage\n",
      "\n",
      "    Melanoma\n",
      "\n",
      "### Format\n",
      "\n",
      "This data frame contains the following columns:\n",
      "\n",
      "`time`\n",
      "\n",
      "survival time in days, possibly censored.\n",
      "\n",
      "`status`\n",
      "\n",
      "`1` died from melanoma, `2` alive, `3` dead from other causes.\n",
      "\n",
      "`sex`\n",
      "\n",
      "`1` = male, `0` = female.\n",
      "\n",
      "`age`\n",
      "\n",
      "age in years.\n",
      "\n",
      "`year`\n",
      "\n",
      "of operation.\n",
      "\n",
      "`thickness`\n",
      "\n",
      "tumour thickness in mm.\n",
      "\n",
      "`ulcer`\n",
      "\n",
      "`1` = presence, `0` = absence.\n",
      "\n",
      "### Source\n",
      "\n",
      "P. K. Andersen, O. Borgan, R. D. Gill and N. Keiding (1993) _Statistical\n",
      "Models based on Counting Processes._ Springer.\n",
      "\n",
      "\n"
     ]
    }
   ],
   "source": [
    "from pydataset import data\n",
    "import pandas as pd\n",
    "import numpy as np\n",
    "import matplotlib.pyplot as plt\n",
    "\n",
    "from sklearn.model_selection import train_test_split\n",
    "from sklearn.ensemble import RandomForestClassifier\n",
    "from sklearn.metrics import accuracy_score\n",
    "\n",
    "data('Melanoma', show_doc=True)"
   ]
  },
  {
   "cell_type": "code",
   "execution_count": 2,
   "metadata": {},
   "outputs": [],
   "source": [
    "mel_data = data('Melanoma')"
   ]
  },
  {
   "cell_type": "markdown",
   "metadata": {},
   "source": [
    "Remove samples where death of patient is not related to Melanoma (status = 3)"
   ]
  },
  {
   "cell_type": "code",
   "execution_count": 3,
   "metadata": {},
   "outputs": [],
   "source": [
    "mel_data = mel_data[mel_data.status != 3]"
   ]
  },
  {
   "cell_type": "markdown",
   "metadata": {},
   "source": [
    "#### Plot the patients status vs age and status vs thickness\n",
    "\n",
    "status = 1 -> Died from Melanoma\n",
    "\n",
    "status = 2 -> Alive"
   ]
  },
  {
   "cell_type": "code",
   "execution_count": 4,
   "metadata": {},
   "outputs": [
    {
     "data": {
      "image/png": "[encoded data removed]",
      "text/plain": [
       "<Figure size 432x288 with 1 Axes>"
      ]
     },
     "metadata": {},
     "output_type": "display_data"
    },
    {
     "name": "stdout",
     "output_type": "stream",
     "text": [
      "Correlation between patient age and status -0.1400 \n"
     ]
    }
   ],
   "source": [
    "plt.plot(mel_data.age, mel_data.status, 'o')\n",
    "plt.xlabel(\"Age\")\n",
    "plt.ylabel(\"Status\")\n",
    "plt.show()\n",
    "\n",
    "print(\"Correlation between patient age and status %0.4f \" % np.corrcoef(np.array([mel_data.age, mel_data.status]))[0,1])"
   ]
  },
  {
   "cell_type": "code",
   "execution_count": 5,
   "metadata": {},
   "outputs": [
    {
     "data": {
      "image/png": "[encoded data removed]",
      "text/plain": [
       "<Figure size 432x288 with 1 Axes>"
      ]
     },
     "metadata": {},
     "output_type": "display_data"
    },
    {
     "name": "stdout",
     "output_type": "stream",
     "text": [
      "Correlation between melonama thickness and status -0.3261 \n"
     ]
    }
   ],
   "source": [
    "plt.plot(mel_data.thickness, mel_data.status, 'o')\n",
    "plt.xlabel(\"Thickness\")\n",
    "plt.ylabel(\"Status\")\n",
    "plt.show()\n",
    "\n",
    "print(\"Correlation between melonama thickness and status %0.4f \" % np.corrcoef(np.array([mel_data.thickness, mel_data.status]))[0,1])"
   ]
  },
  {
   "cell_type": "markdown",
   "metadata": {},
   "source": [
    "### Split the dataset into train and test sets:"
   ]
  },
  {
   "cell_type": "code",
   "execution_count": 6,
   "metadata": {},
   "outputs": [],
   "source": [
    "mel_statuses = mel_data.status\n",
    "mel_samples = mel_data.drop(columns=['status'])\n",
    "(mel_train_samples, mel_test_samples, mel_train_statuses, mel_test_statuses) = \\\n",
    "train_test_split(mel_samples, mel_statuses, test_size=0.2, stratify=mel_statuses, random_state=0)"
   ]
  },
  {
   "cell_type": "markdown",
   "metadata": {},
   "source": [
    "### Classify using Random Forest classifier:"
   ]
  },
  {
   "cell_type": "code",
   "execution_count": 7,
   "metadata": {},
   "outputs": [
    {
     "name": "stdout",
     "output_type": "stream",
     "text": [
      "Accuracy Score 0.8462\n"
     ]
    }
   ],
   "source": [
    "clf = RandomForestClassifier(random_state=0) # Take default parameter values\n",
    "clf.fit(mel_train_samples, mel_train_statuses)\n",
    "mel_predict_statuses = clf.predict(mel_test_samples)\n",
    "print(\"Accuracy Score %0.4f\" % accuracy_score(mel_test_statuses, mel_predict_statuses))"
   ]
  },
  {
   "cell_type": "markdown",
   "metadata": {},
   "source": [
    "### Classify using SVC:"
   ]
  },
  {
   "cell_type": "code",
   "execution_count": null,
   "metadata": {},
   "outputs": [],
   "source": [
    "from sklearn.svm import SVC\n",
    "clf = SVC(random_state=0) # Take default parameter values\n",
    "clf.fit(mel_train_samples, mel_train_statuses)\n",
    "mel_predict_statuses = clf.predict(mel_test_samples)\n",
    "print(\"Accuracy Score %0.4f\" % accuracy_score(mel_test_statuses, mel_predict_statuses))"
   ]
  },
  {
   "cell_type": "code",
   "execution_count": null,
   "metadata": {},
   "outputs": [],
   "source": []
  }
 ],
 "metadata": {
  "kernelspec": {
   "display_name": "Python 3",
   "language": "python",
   "name": "python3"
  },
  "language_info": {
   "codemirror_mode": {
    "name": "ipython",
    "version": 3
   },
   "file_extension": ".py",
   "mimetype": "text/x-python",
   "name": "python",
   "nbconvert_exporter": "python",
   "pygments_lexer": "ipython3",
   "version": "3.6.5"
  }
 },
 "nbformat": 4,
 "nbformat_minor": 2
}
