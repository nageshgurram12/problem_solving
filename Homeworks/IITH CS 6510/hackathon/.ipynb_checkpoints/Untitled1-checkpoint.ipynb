{
 "cells": [
  {
   "cell_type": "code",
   "execution_count": null,
   "metadata": {},
   "outputs": [],
   "source": [
    "import pandas as pd\n",
    "import numpy as np\n",
    "\n",
    "from sklearn.model_selection import train_test_split\n",
    "from sklearn.metrics import accuracy_score\n",
    "from sklearn.model_selection import GridSearchCV\n",
    "from sklearn.ensemble import GradientBoostingClassifier\n",
    "import xgboost as xgb"
   ]
  },
  {
   "cell_type": "code",
   "execution_count": null,
   "metadata": {},
   "outputs": [],
   "source": [
    "input_data = pd.read_csv(\"train.csv\", index_col=\"ID\")\n",
    "input_data.head()"
   ]
  },
  {
   "cell_type": "code",
   "execution_count": 3,
   "metadata": {},
   "outputs": [
    {
     "data": {
      "text/html": [
       "<div>\n",
       "<style scoped>\n",
       "    .dataframe tbody tr th:only-of-type {\n",
       "        vertical-align: middle;\n",
       "    }\n",
       "\n",
       "    .dataframe tbody tr th {\n",
       "        vertical-align: top;\n",
       "    }\n",
       "\n",
       "    .dataframe thead th {\n",
       "        text-align: right;\n",
       "    }\n",
       "</style>\n",
       "<table border=\"1\" class=\"dataframe\">\n",
       "  <thead>\n",
       "    <tr style=\"text-align: right;\">\n",
       "      <th></th>\n",
       "      <th>age</th>\n",
       "      <th>sex</th>\n",
       "      <th>chest</th>\n",
       "      <th>resting_blood_pressure</th>\n",
       "      <th>serum_cholestoral</th>\n",
       "      <th>fasting_blood_sugar</th>\n",
       "      <th>resting_electrocardiographic_results</th>\n",
       "      <th>maximum_heart_rate_achieved</th>\n",
       "      <th>exercise_induced_angina</th>\n",
       "      <th>oldpeak</th>\n",
       "      <th>slope</th>\n",
       "      <th>number_of_major_vessels</th>\n",
       "      <th>thal</th>\n",
       "    </tr>\n",
       "    <tr>\n",
       "      <th>ID</th>\n",
       "      <th></th>\n",
       "      <th></th>\n",
       "      <th></th>\n",
       "      <th></th>\n",
       "      <th></th>\n",
       "      <th></th>\n",
       "      <th></th>\n",
       "      <th></th>\n",
       "      <th></th>\n",
       "      <th></th>\n",
       "      <th></th>\n",
       "      <th></th>\n",
       "      <th></th>\n",
       "    </tr>\n",
       "  </thead>\n",
       "  <tbody>\n",
       "    <tr>\n",
       "      <th>600000</th>\n",
       "      <td>53.963191</td>\n",
       "      <td>1</td>\n",
       "      <td>4.000000</td>\n",
       "      <td>136.940829</td>\n",
       "      <td>236.862814</td>\n",
       "      <td>0</td>\n",
       "      <td>2</td>\n",
       "      <td>143.961525</td>\n",
       "      <td>1</td>\n",
       "      <td>0.711100</td>\n",
       "      <td>1</td>\n",
       "      <td>2</td>\n",
       "      <td>7</td>\n",
       "    </tr>\n",
       "    <tr>\n",
       "      <th>600001</th>\n",
       "      <td>49.621479</td>\n",
       "      <td>1</td>\n",
       "      <td>4.000000</td>\n",
       "      <td>122.024651</td>\n",
       "      <td>226.593019</td>\n",
       "      <td>0</td>\n",
       "      <td>2</td>\n",
       "      <td>112.220874</td>\n",
       "      <td>1</td>\n",
       "      <td>0.000000</td>\n",
       "      <td>1</td>\n",
       "      <td>1</td>\n",
       "      <td>7</td>\n",
       "    </tr>\n",
       "    <tr>\n",
       "      <th>600002</th>\n",
       "      <td>36.933893</td>\n",
       "      <td>1</td>\n",
       "      <td>1.300924</td>\n",
       "      <td>127.585643</td>\n",
       "      <td>351.061046</td>\n",
       "      <td>0</td>\n",
       "      <td>0</td>\n",
       "      <td>177.945922</td>\n",
       "      <td>0</td>\n",
       "      <td>0.313078</td>\n",
       "      <td>1</td>\n",
       "      <td>0</td>\n",
       "      <td>7</td>\n",
       "    </tr>\n",
       "    <tr>\n",
       "      <th>600003</th>\n",
       "      <td>54.884588</td>\n",
       "      <td>1</td>\n",
       "      <td>3.000000</td>\n",
       "      <td>124.876745</td>\n",
       "      <td>250.370530</td>\n",
       "      <td>0</td>\n",
       "      <td>0</td>\n",
       "      <td>153.176526</td>\n",
       "      <td>0</td>\n",
       "      <td>0.308277</td>\n",
       "      <td>1</td>\n",
       "      <td>1</td>\n",
       "      <td>7</td>\n",
       "    </tr>\n",
       "    <tr>\n",
       "      <th>600004</th>\n",
       "      <td>71.016392</td>\n",
       "      <td>0</td>\n",
       "      <td>1.746972</td>\n",
       "      <td>120.922600</td>\n",
       "      <td>210.979710</td>\n",
       "      <td>0</td>\n",
       "      <td>0</td>\n",
       "      <td>164.573122</td>\n",
       "      <td>0</td>\n",
       "      <td>1.021370</td>\n",
       "      <td>1</td>\n",
       "      <td>1</td>\n",
       "      <td>3</td>\n",
       "    </tr>\n",
       "  </tbody>\n",
       "</table>\n",
       "</div>"
      ],
      "text/plain": [
       "              age  sex     chest  resting_blood_pressure  serum_cholestoral  \\\n",
       "ID                                                                            \n",
       "600000  53.963191    1  4.000000              136.940829         236.862814   \n",
       "600001  49.621479    1  4.000000              122.024651         226.593019   \n",
       "600002  36.933893    1  1.300924              127.585643         351.061046   \n",
       "600003  54.884588    1  3.000000              124.876745         250.370530   \n",
       "600004  71.016392    0  1.746972              120.922600         210.979710   \n",
       "\n",
       "        fasting_blood_sugar  resting_electrocardiographic_results  \\\n",
       "ID                                                                  \n",
       "600000                    0                                     2   \n",
       "600001                    0                                     2   \n",
       "600002                    0                                     0   \n",
       "600003                    0                                     0   \n",
       "600004                    0                                     0   \n",
       "\n",
       "        maximum_heart_rate_achieved  exercise_induced_angina   oldpeak  slope  \\\n",
       "ID                                                                              \n",
       "600000                   143.961525                        1  0.711100      1   \n",
       "600001                   112.220874                        1  0.000000      1   \n",
       "600002                   177.945922                        0  0.313078      1   \n",
       "600003                   153.176526                        0  0.308277      1   \n",
       "600004                   164.573122                        0  1.021370      1   \n",
       "\n",
       "        number_of_major_vessels  thal  \n",
       "ID                                     \n",
       "600000                        2     7  \n",
       "600001                        1     7  \n",
       "600002                        0     7  \n",
       "600003                        1     7  \n",
       "600004                        1     3  "
      ]
     },
     "execution_count": 3,
     "metadata": {},
     "output_type": "execute_result"
    }
   ],
   "source": [
    "test_samples = pd.read_csv(\"test.csv\", index_col=\"ID\")\n",
    "test_samples.head()"
   ]
  },
  {
   "cell_type": "code",
   "execution_count": 4,
   "metadata": {},
   "outputs": [],
   "source": [
    "input_features = input_data.iloc[:,:-1].values\n",
    "input_classes = input_data.iloc[:,-1].values\n",
    "\n",
    "(train_samples, val_samples, train_classes, val_classes) = \\\n",
    "train_test_split(input_features, input_classes, test_size=0.2, stratify=input_classes, random_state=0)"
   ]
  },
  {
   "cell_type": "code",
   "execution_count": 10,
   "metadata": {},
   "outputs": [],
   "source": [
    "def predict_accuracy(model):\n",
    "    #print(model.best_params_, model.best_score_)\n",
    "    predict_classes = model.predict(val_samples)\n",
    "    print(\"Accuracy : %0.4f\" % accuracy_score(val_classes, predict_classes))"
   ]
  },
  {
   "cell_type": "code",
   "execution_count": null,
   "metadata": {},
   "outputs": [],
   "source": [
    "grid_parameters = {'n_estimators':range(130,150,10)}\n",
    "grid_xgb = GridSearchCV(xgb.XGBClassifier(),  grid_parameters, cv=3, n_jobs=-1)\n",
    "grid_xgb.fit(train_samples, train_classes)"
   ]
  },
  {
   "cell_type": "code",
   "execution_count": 6,
   "metadata": {},
   "outputs": [
    {
     "data": {
      "text/plain": [
       "XGBClassifier(base_score=0.5, colsample_bylevel=1, colsample_bytree=1,\n",
       "       gamma=0, learning_rate=0.1, max_delta_step=0, max_depth=3,\n",
       "       min_child_weight=1, missing=None, n_estimators=130, nthread=-1,\n",
       "       objective='binary:logistic', reg_alpha=0, reg_lambda=1,\n",
       "       scale_pos_weight=1, seed=0, silent=True, subsample=0.5)"
      ]
     },
     "execution_count": 6,
     "metadata": {},
     "output_type": "execute_result"
    }
   ],
   "source": [
    "xgb_tree = xgb.XGBClassifier(n_estimators=130, subsample=0.5)\n",
    "xgb_tree.fit(train_samples, train_classes)"
   ]
  },
  {
   "cell_type": "code",
   "execution_count": 11,
   "metadata": {},
   "outputs": [
    {
     "name": "stdout",
     "output_type": "stream",
     "text": [
      "Accuracy : 0.9007\n"
     ]
    }
   ],
   "source": [
    "predict_accuracy(xgb_tree)"
   ]
  },
  {
   "cell_type": "code",
   "execution_count": null,
   "metadata": {},
   "outputs": [],
   "source": []
  }
 ],
 "metadata": {
  "kernelspec": {
   "display_name": "Python 3",
   "language": "python",
   "name": "python3"
  },
  "language_info": {
   "codemirror_mode": {
    "name": "ipython",
    "version": 3
   },
   "file_extension": ".py",
   "mimetype": "text/x-python",
   "name": "python",
   "nbconvert_exporter": "python",
   "pygments_lexer": "ipython3",
   "version": "3.6.5"
  }
 },
 "nbformat": 4,
 "nbformat_minor": 2
}
