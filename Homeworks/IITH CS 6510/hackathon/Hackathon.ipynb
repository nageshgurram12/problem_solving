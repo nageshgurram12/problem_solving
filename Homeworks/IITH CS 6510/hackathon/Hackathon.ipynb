{
 "cells": [
  {
   "cell_type": "markdown",
   "metadata": {},
   "source": [
    "### Predict Heart Diseases:"
   ]
  },
  {
   "cell_type": "code",
   "execution_count": 1,
   "metadata": {},
   "outputs": [],
   "source": [
    "import pandas as pd\n",
    "import numpy as np\n",
    "\n",
    "from sklearn.model_selection import train_test_split\n",
    "from sklearn.ensemble import RandomForestClassifier\n",
    "from sklearn.metrics import accuracy_score\n",
    "from sklearn.model_selection import GridSearchCV\n",
    "from sklearn.ensemble import GradientBoostingClassifier"
   ]
  },
  {
   "cell_type": "markdown",
   "metadata": {},
   "source": [
    "#### Read training data and do data exploration:"
   ]
  },
  {
   "cell_type": "code",
   "execution_count": 2,
   "metadata": {},
   "outputs": [
    {
     "data": {
      "text/html": [
       "<div>\n",
       "<style scoped>\n",
       "    .dataframe tbody tr th:only-of-type {\n",
       "        vertical-align: middle;\n",
       "    }\n",
       "\n",
       "    .dataframe tbody tr th {\n",
       "        vertical-align: top;\n",
       "    }\n",
       "\n",
       "    .dataframe thead th {\n",
       "        text-align: right;\n",
       "    }\n",
       "</style>\n",
       "<table border=\"1\" class=\"dataframe\">\n",
       "  <thead>\n",
       "    <tr style=\"text-align: right;\">\n",
       "      <th></th>\n",
       "      <th>age</th>\n",
       "      <th>sex</th>\n",
       "      <th>chest</th>\n",
       "      <th>resting_blood_pressure</th>\n",
       "      <th>serum_cholestoral</th>\n",
       "      <th>fasting_blood_sugar</th>\n",
       "      <th>resting_electrocardiographic_results</th>\n",
       "      <th>maximum_heart_rate_achieved</th>\n",
       "      <th>exercise_induced_angina</th>\n",
       "      <th>oldpeak</th>\n",
       "      <th>slope</th>\n",
       "      <th>number_of_major_vessels</th>\n",
       "      <th>thal</th>\n",
       "      <th>class</th>\n",
       "    </tr>\n",
       "    <tr>\n",
       "      <th>ID</th>\n",
       "      <th></th>\n",
       "      <th></th>\n",
       "      <th></th>\n",
       "      <th></th>\n",
       "      <th></th>\n",
       "      <th></th>\n",
       "      <th></th>\n",
       "      <th></th>\n",
       "      <th></th>\n",
       "      <th></th>\n",
       "      <th></th>\n",
       "      <th></th>\n",
       "      <th></th>\n",
       "      <th></th>\n",
       "    </tr>\n",
       "  </thead>\n",
       "  <tbody>\n",
       "    <tr>\n",
       "      <th>0</th>\n",
       "      <td>49.207124</td>\n",
       "      <td>0</td>\n",
       "      <td>4.000000</td>\n",
       "      <td>162.996167</td>\n",
       "      <td>181.108682</td>\n",
       "      <td>0</td>\n",
       "      <td>0</td>\n",
       "      <td>148.227858</td>\n",
       "      <td>1</td>\n",
       "      <td>0.944547</td>\n",
       "      <td>2</td>\n",
       "      <td>0</td>\n",
       "      <td>3</td>\n",
       "      <td>1</td>\n",
       "    </tr>\n",
       "    <tr>\n",
       "      <th>1</th>\n",
       "      <td>53.628425</td>\n",
       "      <td>1</td>\n",
       "      <td>1.741596</td>\n",
       "      <td>130.233730</td>\n",
       "      <td>276.474630</td>\n",
       "      <td>0</td>\n",
       "      <td>2</td>\n",
       "      <td>152.917139</td>\n",
       "      <td>0</td>\n",
       "      <td>0.119070</td>\n",
       "      <td>2</td>\n",
       "      <td>0</td>\n",
       "      <td>3</td>\n",
       "      <td>0</td>\n",
       "    </tr>\n",
       "    <tr>\n",
       "      <th>2</th>\n",
       "      <td>49.591426</td>\n",
       "      <td>1</td>\n",
       "      <td>4.000000</td>\n",
       "      <td>146.999012</td>\n",
       "      <td>223.300517</td>\n",
       "      <td>1</td>\n",
       "      <td>2</td>\n",
       "      <td>102.352090</td>\n",
       "      <td>1</td>\n",
       "      <td>1.616747</td>\n",
       "      <td>2</td>\n",
       "      <td>2</td>\n",
       "      <td>7</td>\n",
       "      <td>1</td>\n",
       "    </tr>\n",
       "    <tr>\n",
       "      <th>3</th>\n",
       "      <td>58.991445</td>\n",
       "      <td>1</td>\n",
       "      <td>4.000000</td>\n",
       "      <td>112.369143</td>\n",
       "      <td>187.245501</td>\n",
       "      <td>0</td>\n",
       "      <td>0</td>\n",
       "      <td>158.164750</td>\n",
       "      <td>1</td>\n",
       "      <td>0.000000</td>\n",
       "      <td>1</td>\n",
       "      <td>1</td>\n",
       "      <td>7</td>\n",
       "      <td>1</td>\n",
       "    </tr>\n",
       "    <tr>\n",
       "      <th>4</th>\n",
       "      <td>51.053602</td>\n",
       "      <td>1</td>\n",
       "      <td>1.954609</td>\n",
       "      <td>138.032047</td>\n",
       "      <td>238.482868</td>\n",
       "      <td>0</td>\n",
       "      <td>0</td>\n",
       "      <td>172.540828</td>\n",
       "      <td>0</td>\n",
       "      <td>1.150464</td>\n",
       "      <td>1</td>\n",
       "      <td>1</td>\n",
       "      <td>3</td>\n",
       "      <td>0</td>\n",
       "    </tr>\n",
       "  </tbody>\n",
       "</table>\n",
       "</div>"
      ],
      "text/plain": [
       "          age  sex     chest  resting_blood_pressure  serum_cholestoral  \\\n",
       "ID                                                                        \n",
       "0   49.207124    0  4.000000              162.996167         181.108682   \n",
       "1   53.628425    1  1.741596              130.233730         276.474630   \n",
       "2   49.591426    1  4.000000              146.999012         223.300517   \n",
       "3   58.991445    1  4.000000              112.369143         187.245501   \n",
       "4   51.053602    1  1.954609              138.032047         238.482868   \n",
       "\n",
       "    fasting_blood_sugar  resting_electrocardiographic_results  \\\n",
       "ID                                                              \n",
       "0                     0                                     0   \n",
       "1                     0                                     2   \n",
       "2                     1                                     2   \n",
       "3                     0                                     0   \n",
       "4                     0                                     0   \n",
       "\n",
       "    maximum_heart_rate_achieved  exercise_induced_angina   oldpeak  slope  \\\n",
       "ID                                                                          \n",
       "0                    148.227858                        1  0.944547      2   \n",
       "1                    152.917139                        0  0.119070      2   \n",
       "2                    102.352090                        1  1.616747      2   \n",
       "3                    158.164750                        1  0.000000      1   \n",
       "4                    172.540828                        0  1.150464      1   \n",
       "\n",
       "    number_of_major_vessels  thal  class  \n",
       "ID                                        \n",
       "0                         0     3      1  \n",
       "1                         0     3      0  \n",
       "2                         2     7      1  \n",
       "3                         1     7      1  \n",
       "4                         1     3      0  "
      ]
     },
     "execution_count": 2,
     "metadata": {},
     "output_type": "execute_result"
    }
   ],
   "source": [
    "input_data = pd.read_csv(\"train.csv\", index_col=\"ID\")\n",
    "input_data.head()"
   ]
  },
  {
   "cell_type": "code",
   "execution_count": 3,
   "metadata": {},
   "outputs": [
    {
     "data": {
      "text/html": [
       "<div>\n",
       "<style scoped>\n",
       "    .dataframe tbody tr th:only-of-type {\n",
       "        vertical-align: middle;\n",
       "    }\n",
       "\n",
       "    .dataframe tbody tr th {\n",
       "        vertical-align: top;\n",
       "    }\n",
       "\n",
       "    .dataframe thead th {\n",
       "        text-align: right;\n",
       "    }\n",
       "</style>\n",
       "<table border=\"1\" class=\"dataframe\">\n",
       "  <thead>\n",
       "    <tr style=\"text-align: right;\">\n",
       "      <th></th>\n",
       "      <th>age</th>\n",
       "      <th>sex</th>\n",
       "      <th>chest</th>\n",
       "      <th>resting_blood_pressure</th>\n",
       "      <th>serum_cholestoral</th>\n",
       "      <th>fasting_blood_sugar</th>\n",
       "      <th>resting_electrocardiographic_results</th>\n",
       "      <th>maximum_heart_rate_achieved</th>\n",
       "      <th>exercise_induced_angina</th>\n",
       "      <th>oldpeak</th>\n",
       "      <th>slope</th>\n",
       "      <th>number_of_major_vessels</th>\n",
       "      <th>thal</th>\n",
       "    </tr>\n",
       "    <tr>\n",
       "      <th>ID</th>\n",
       "      <th></th>\n",
       "      <th></th>\n",
       "      <th></th>\n",
       "      <th></th>\n",
       "      <th></th>\n",
       "      <th></th>\n",
       "      <th></th>\n",
       "      <th></th>\n",
       "      <th></th>\n",
       "      <th></th>\n",
       "      <th></th>\n",
       "      <th></th>\n",
       "      <th></th>\n",
       "    </tr>\n",
       "  </thead>\n",
       "  <tbody>\n",
       "    <tr>\n",
       "      <th>600000</th>\n",
       "      <td>53.963191</td>\n",
       "      <td>1</td>\n",
       "      <td>4.000000</td>\n",
       "      <td>136.940829</td>\n",
       "      <td>236.862814</td>\n",
       "      <td>0</td>\n",
       "      <td>2</td>\n",
       "      <td>143.961525</td>\n",
       "      <td>1</td>\n",
       "      <td>0.711100</td>\n",
       "      <td>1</td>\n",
       "      <td>2</td>\n",
       "      <td>7</td>\n",
       "    </tr>\n",
       "    <tr>\n",
       "      <th>600001</th>\n",
       "      <td>49.621479</td>\n",
       "      <td>1</td>\n",
       "      <td>4.000000</td>\n",
       "      <td>122.024651</td>\n",
       "      <td>226.593019</td>\n",
       "      <td>0</td>\n",
       "      <td>2</td>\n",
       "      <td>112.220874</td>\n",
       "      <td>1</td>\n",
       "      <td>0.000000</td>\n",
       "      <td>1</td>\n",
       "      <td>1</td>\n",
       "      <td>7</td>\n",
       "    </tr>\n",
       "    <tr>\n",
       "      <th>600002</th>\n",
       "      <td>36.933893</td>\n",
       "      <td>1</td>\n",
       "      <td>1.300924</td>\n",
       "      <td>127.585643</td>\n",
       "      <td>351.061046</td>\n",
       "      <td>0</td>\n",
       "      <td>0</td>\n",
       "      <td>177.945922</td>\n",
       "      <td>0</td>\n",
       "      <td>0.313078</td>\n",
       "      <td>1</td>\n",
       "      <td>0</td>\n",
       "      <td>7</td>\n",
       "    </tr>\n",
       "    <tr>\n",
       "      <th>600003</th>\n",
       "      <td>54.884588</td>\n",
       "      <td>1</td>\n",
       "      <td>3.000000</td>\n",
       "      <td>124.876745</td>\n",
       "      <td>250.370530</td>\n",
       "      <td>0</td>\n",
       "      <td>0</td>\n",
       "      <td>153.176526</td>\n",
       "      <td>0</td>\n",
       "      <td>0.308277</td>\n",
       "      <td>1</td>\n",
       "      <td>1</td>\n",
       "      <td>7</td>\n",
       "    </tr>\n",
       "    <tr>\n",
       "      <th>600004</th>\n",
       "      <td>71.016392</td>\n",
       "      <td>0</td>\n",
       "      <td>1.746972</td>\n",
       "      <td>120.922600</td>\n",
       "      <td>210.979710</td>\n",
       "      <td>0</td>\n",
       "      <td>0</td>\n",
       "      <td>164.573122</td>\n",
       "      <td>0</td>\n",
       "      <td>1.021370</td>\n",
       "      <td>1</td>\n",
       "      <td>1</td>\n",
       "      <td>3</td>\n",
       "    </tr>\n",
       "  </tbody>\n",
       "</table>\n",
       "</div>"
      ],
      "text/plain": [
       "              age  sex     chest  resting_blood_pressure  serum_cholestoral  \\\n",
       "ID                                                                            \n",
       "600000  53.963191    1  4.000000              136.940829         236.862814   \n",
       "600001  49.621479    1  4.000000              122.024651         226.593019   \n",
       "600002  36.933893    1  1.300924              127.585643         351.061046   \n",
       "600003  54.884588    1  3.000000              124.876745         250.370530   \n",
       "600004  71.016392    0  1.746972              120.922600         210.979710   \n",
       "\n",
       "        fasting_blood_sugar  resting_electrocardiographic_results  \\\n",
       "ID                                                                  \n",
       "600000                    0                                     2   \n",
       "600001                    0                                     2   \n",
       "600002                    0                                     0   \n",
       "600003                    0                                     0   \n",
       "600004                    0                                     0   \n",
       "\n",
       "        maximum_heart_rate_achieved  exercise_induced_angina   oldpeak  slope  \\\n",
       "ID                                                                              \n",
       "600000                   143.961525                        1  0.711100      1   \n",
       "600001                   112.220874                        1  0.000000      1   \n",
       "600002                   177.945922                        0  0.313078      1   \n",
       "600003                   153.176526                        0  0.308277      1   \n",
       "600004                   164.573122                        0  1.021370      1   \n",
       "\n",
       "        number_of_major_vessels  thal  \n",
       "ID                                     \n",
       "600000                        2     7  \n",
       "600001                        1     7  \n",
       "600002                        0     7  \n",
       "600003                        1     7  \n",
       "600004                        1     3  "
      ]
     },
     "execution_count": 3,
     "metadata": {},
     "output_type": "execute_result"
    }
   ],
   "source": [
    "test_samples = pd.read_csv(\"test.csv\", index_col=\"ID\")\n",
    "test_samples.head()"
   ]
  },
  {
   "cell_type": "markdown",
   "metadata": {},
   "source": [
    "#### Divide data into training and validation sets in stratified fashion:"
   ]
  },
  {
   "cell_type": "code",
   "execution_count": 4,
   "metadata": {},
   "outputs": [],
   "source": [
    "input_features = input_data.iloc[:,:-1].values\n",
    "input_classes = input_data.iloc[:,-1].values\n",
    "\n",
    "(train_samples, val_samples, train_classes, val_classes) = \\\n",
    "train_test_split(input_features, input_classes, test_size=0.2, stratify=input_classes, random_state=0)\n"
   ]
  },
  {
   "cell_type": "code",
   "execution_count": 5,
   "metadata": {},
   "outputs": [
    {
     "name": "stdout",
     "output_type": "stream",
     "text": [
      "class ratios in sets: 1.25, 1.25, 1.25\n"
     ]
    }
   ],
   "source": [
    "uni_v, counts_v = np.unique(val_classes, return_counts=True)\n",
    "uni_t, counts_t = np.unique(train_classes, return_counts=True)\n",
    "uni_i, counts_i = np.unique(input_classes, return_counts=True)\n",
    "print(\"class ratios in sets: %0.2f, %0.2f, %0.2f\" % \\\n",
    "  (counts_v[0]/counts_v[1], counts_t[0]/counts_t[1], counts_i[0]/counts_i[1]))"
   ]
  },
  {
   "cell_type": "markdown",
   "metadata": {},
   "source": [
    "#### Predict classes with Gradient Boost Classifier (default parameters) :"
   ]
  },
  {
   "cell_type": "code",
   "execution_count": 41,
   "metadata": {},
   "outputs": [
    {
     "name": "stdout",
     "output_type": "stream",
     "text": [
      "validation score 0.9002 \n"
     ]
    }
   ],
   "source": [
    "gbc = GradientBoostingClassifier(random_state=0)\n",
    "gbc.fit(train_samples, train_classes)\n",
    "predict_classes = gbc.predict(val_samples)\n",
    "print(\"validation score %0.4f \" % accuracy_score(val_classes, predict_classes))\n",
    "\n",
    "test_predicted_classes = gbc.predict(test_samples)\n",
    "final_output = pd.DataFrame({'ID' : test_samples.index.values, 'class' : test_predicted_classes})\n",
    "final_output.to_csv(\"submission_default.csv\", index=False)"
   ]
  },
  {
   "cell_type": "markdown",
   "metadata": {},
   "source": [
    "#### Tune GBM paramaeters by grid search on 10% of training data set"
   ]
  },
  {
   "cell_type": "code",
   "execution_count": 6,
   "metadata": {},
   "outputs": [
    {
     "data": {
      "text/plain": [
       "(48000, 13)"
      ]
     },
     "execution_count": 6,
     "metadata": {},
     "output_type": "execute_result"
    }
   ],
   "source": [
    "(grid_leftout_samples, grid_search_samples, grid_leftout_classes, grid_search_classes) = \\\n",
    "train_test_split(train_samples, train_classes, test_size=0.1, stratify=train_classes, random_state=0)\n",
    "grid_search_samples.shape"
   ]
  },
  {
   "cell_type": "markdown",
   "metadata": {},
   "source": [
    "Tune n_estimators first and take a optimal value"
   ]
  },
  {
   "cell_type": "code",
   "execution_count": 7,
   "metadata": {},
   "outputs": [
    {
     "data": {
      "text/plain": [
       "GridSearchCV(cv=3, error_score='raise',\n",
       "       estimator=GradientBoostingClassifier(criterion='friedman_mse', init=None,\n",
       "              learning_rate=0.1, loss='deviance', max_depth=3,\n",
       "              max_features=None, max_leaf_nodes=None,\n",
       "              min_impurity_decrease=0.0, min_impurity_split=None,\n",
       "              min_samples_leaf=1, min_samples_split=2,\n",
       "              min_weight_fraction_leaf=0.0, n_estimators=100,\n",
       "              presort='auto', random_state=0, subsample=1.0, verbose=0,\n",
       "              warm_start=False),\n",
       "       fit_params=None, iid=True, n_jobs=-1,\n",
       "       param_grid={'n_estimators': range(80, 150, 10)},\n",
       "       pre_dispatch='2*n_jobs', refit=True, return_train_score='warn',\n",
       "       scoring=None, verbose=0)"
      ]
     },
     "execution_count": 7,
     "metadata": {},
     "output_type": "execute_result"
    }
   ],
   "source": [
    "grid_parameters = {\n",
    "    #\"learning_rate\": [0.01, 0.025, 0.05, 0.075, 0.1, 0.15, 0.2],\n",
    "    #\"subsample\":[0.5, 0.618, 0.8, 0.85, 0.9, 0.95, 1.0],\n",
    "    'n_estimators':range(80,150,10),\n",
    "    #\"min_samples_split\": np.linspace(0.1, 0.5, 12),\n",
    "    #\"min_samples_leaf\": np.linspace(0.1, 0.5, 12),\n",
    "    #\"max_depth\":[3,5,8],\n",
    "    }\n",
    "\n",
    "\n",
    "grid_gbc = GridSearchCV(GradientBoostingClassifier(random_state=0,), grid_parameters, cv=3, n_jobs=-1)\n",
    "grid_gbc.fit(grid_search_samples, grid_search_classes)"
   ]
  },
  {
   "cell_type": "code",
   "execution_count": 8,
   "metadata": {},
   "outputs": [
    {
     "name": "stdout",
     "output_type": "stream",
     "text": [
      "{'n_estimators': 130}\n",
      "Accuracy : 0.8998\n"
     ]
    }
   ],
   "source": [
    "print(grid_gbc.best_params_, grid_gbc.best_score_)\n",
    "predict_classes = grid_gbc.predict(val_samples)\n",
    "print(\"Accuracy : %0.4f\" % accuracy_score(val_classes, predict_classes))"
   ]
  },
  {
   "cell_type": "markdown",
   "metadata": {},
   "source": [
    "Tune Tree parameters"
   ]
  },
  {
   "cell_type": "code",
   "execution_count": 13,
   "metadata": {},
   "outputs": [
    {
     "data": {
      "text/plain": [
       "GridSearchCV(cv=3, error_score='raise',\n",
       "       estimator=GradientBoostingClassifier(criterion='friedman_mse', init=None,\n",
       "              learning_rate=0.1, loss='deviance', max_depth=4,\n",
       "              max_features=None, max_leaf_nodes=None,\n",
       "              min_impurity_decrease=0.0, min_impurity_split=None,\n",
       "              min_samples_leaf=1, min_samples_split=2,\n",
       "              min_weight_fraction_leaf=0.0, n_estimators=130,\n",
       "              presort='auto', random_state=0, subsample=1.0, verbose=0,\n",
       "              warm_start=False),\n",
       "       fit_params=None, iid=True, n_jobs=-1,\n",
       "       param_grid={'min_samples_split': range(1500, 10000, 500)},\n",
       "       pre_dispatch='2*n_jobs', refit=True, return_train_score='warn',\n",
       "       scoring=None, verbose=0)"
      ]
     },
     "execution_count": 13,
     "metadata": {},
     "output_type": "execute_result"
    }
   ],
   "source": [
    "grid_parameters = {'min_samples_split':range(1500,10000,500)}\n",
    "grid_gbc = GridSearchCV(GradientBoostingClassifier(random_state=0,n_estimators=130, max_depth=4), grid_parameters, cv=3, n_jobs=-1)\n",
    "grid_gbc.fit(grid_search_samples, grid_search_classes)"
   ]
  },
  {
   "cell_type": "code",
   "execution_count": 14,
   "metadata": {},
   "outputs": [
    {
     "name": "stdout",
     "output_type": "stream",
     "text": [
      "{'min_samples_split': 2500} 0.8976041666666666\n",
      "Accuracy : 0.8995\n"
     ]
    }
   ],
   "source": [
    "print(grid_gbc.best_params_, grid_gbc.best_score_)\n",
    "predict_classes = grid_gbc.predict(val_samples)\n",
    "print(\"Accuracy : %0.4f\" % accuracy_score(val_classes, predict_classes))"
   ]
  },
  {
   "cell_type": "code",
   "execution_count": 17,
   "metadata": {},
   "outputs": [
    {
     "data": {
      "text/plain": [
       "GridSearchCV(cv=3, error_score='raise',\n",
       "       estimator=GradientBoostingClassifier(criterion='friedman_mse', init=None,\n",
       "              learning_rate=0.1, loss='deviance', max_depth=4,\n",
       "              max_features=None, max_leaf_nodes=None,\n",
       "              min_impurity_decrease=0.0, min_impurity_split=None,\n",
       "              min_samples_leaf=1, min_samples_split=2500,\n",
       "              min_weight_fraction_leaf=0.0, n_estimators=130,\n",
       "              presort='auto', random_state=0, subsample=1.0, verbose=0,\n",
       "              warm_start=False),\n",
       "       fit_params=None, iid=True, n_jobs=-1,\n",
       "       param_grid={'min_samples_leaf': range(10, 101, 10)},\n",
       "       pre_dispatch='2*n_jobs', refit=True, return_train_score='warn',\n",
       "       scoring=None, verbose=0)"
      ]
     },
     "execution_count": 17,
     "metadata": {},
     "output_type": "execute_result"
    }
   ],
   "source": [
    "grid_parameters = {'min_samples_leaf':range(10,101,10)}\n",
    "grid_gbc = GridSearchCV(GradientBoostingClassifier(random_state=0,n_estimators=130, max_depth=4, min_samples_split=2500),\\\n",
    "                        grid_parameters, cv=3, n_jobs=-1)\n",
    "grid_gbc.fit(grid_search_samples, grid_search_classes)"
   ]
  },
  {
   "cell_type": "code",
   "execution_count": 18,
   "metadata": {},
   "outputs": [
    {
     "name": "stdout",
     "output_type": "stream",
     "text": [
      "{'min_samples_leaf': 90} 0.8978958333333333\n",
      "Accuracy : 0.8994\n"
     ]
    }
   ],
   "source": [
    "print(grid_gbc.best_params_, grid_gbc.best_score_)\n",
    "predict_classes = grid_gbc.predict(val_samples)\n",
    "print(\"Accuracy : %0.4f\" % accuracy_score(val_classes, predict_classes))"
   ]
  },
  {
   "cell_type": "markdown",
   "metadata": {},
   "source": [
    "Tune subsample size and learning rate"
   ]
  },
  {
   "cell_type": "code",
   "execution_count": 23,
   "metadata": {},
   "outputs": [
    {
     "data": {
      "text/plain": [
       "GridSearchCV(cv=3, error_score='raise',\n",
       "       estimator=GradientBoostingClassifier(criterion='friedman_mse', init=None,\n",
       "              learning_rate=0.1, loss='deviance', max_depth=4,\n",
       "              max_features=None, max_leaf_nodes=None,\n",
       "              min_impurity_decrease=0.0, min_impurity_split=None,\n",
       "              min_samples_leaf=90, min_samples_split=2500,\n",
       "              min_weight_fraction_leaf=0.0, n_estimators=130,\n",
       "              presort='auto', random_state=0, subsample=1.0, verbose=0,\n",
       "              warm_start=False),\n",
       "       fit_params=None, iid=True, n_jobs=-1,\n",
       "       param_grid={'subsample': array([0.1, 0.2, 0.3, 0.4, 0.5, 0.6])},\n",
       "       pre_dispatch='2*n_jobs', refit=True, return_train_score='warn',\n",
       "       scoring=None, verbose=0)"
      ]
     },
     "execution_count": 23,
     "metadata": {},
     "output_type": "execute_result"
    }
   ],
   "source": [
    "grid_parameters = {'subsample':np.arange(0.1,0.61,0.1)}\n",
    "grid_gbc = GridSearchCV(GradientBoostingClassifier(random_state=0,n_estimators=130,\\\n",
    "                                                   min_samples_leaf = 90, \\\n",
    "                                                   max_depth=4, min_samples_split=2500),\\\n",
    "                        grid_parameters, cv=3, n_jobs=-1)\n",
    "grid_gbc.fit(grid_search_samples, grid_search_classes)"
   ]
  },
  {
   "cell_type": "code",
   "execution_count": 25,
   "metadata": {},
   "outputs": [
    {
     "name": "stdout",
     "output_type": "stream",
     "text": [
      "{'subsample': 0.5} 0.8982708333333334\n",
      "Accuracy : 0.9003\n"
     ]
    }
   ],
   "source": [
    "print(grid_gbc.best_params_, grid_gbc.best_score_)\n",
    "predict_classes = grid_gbc.predict(val_samples)\n",
    "print(\"Accuracy : %0.4f\" % accuracy_score(val_classes, predict_classes))"
   ]
  },
  {
   "cell_type": "code",
   "execution_count": 26,
   "metadata": {},
   "outputs": [
    {
     "data": {
      "text/plain": [
       "GridSearchCV(cv=3, error_score='raise',\n",
       "       estimator=GradientBoostingClassifier(criterion='friedman_mse', init=None,\n",
       "              learning_rate=0.1, loss='deviance', max_depth=4,\n",
       "              max_features=None, max_leaf_nodes=None,\n",
       "              min_impurity_decrease=0.0, min_impurity_split=None,\n",
       "              min_samples_leaf=90, min_samples_split=2500,\n",
       "              min_weight_fraction_leaf=0.0, n_estimators=130,\n",
       "              presort='auto', random_state=0, subsample=0.5, verbose=0,\n",
       "              warm_start=False),\n",
       "       fit_params=None, iid=True, n_jobs=-1,\n",
       "       param_grid={'learning_rate': [0.01, 0.025, 0.05, 0.075, 0.1, 0.15, 0.2]},\n",
       "       pre_dispatch='2*n_jobs', refit=True, return_train_score='warn',\n",
       "       scoring=None, verbose=0)"
      ]
     },
     "execution_count": 26,
     "metadata": {},
     "output_type": "execute_result"
    }
   ],
   "source": [
    "grid_parameters = {\"learning_rate\": [0.01, 0.025, 0.05, 0.075, 0.1, 0.15, 0.2]}\n",
    "grid_gbc = GridSearchCV(GradientBoostingClassifier(n_estimators=130, subsample=0.5, \\\n",
    "                                                   min_samples_leaf = 90, \\\n",
    "                                                   max_depth=4, min_samples_split=2500, random_state=0),\\\n",
    "                        grid_parameters, cv=3, n_jobs=-1)\n",
    "grid_gbc.fit(grid_search_samples, grid_search_classes)"
   ]
  },
  {
   "cell_type": "code",
   "execution_count": 27,
   "metadata": {},
   "outputs": [
    {
     "name": "stdout",
     "output_type": "stream",
     "text": [
      "{'learning_rate': 0.1} 0.8982708333333334\n",
      "Accuracy : 0.9003\n"
     ]
    }
   ],
   "source": [
    "print(grid_gbc.best_params_, grid_gbc.best_score_)\n",
    "predict_classes = grid_gbc.predict(val_samples)\n",
    "print(\"Accuracy : %0.4f\" % accuracy_score(val_classes, predict_classes))"
   ]
  },
  {
   "cell_type": "code",
   "execution_count": 28,
   "metadata": {},
   "outputs": [
    {
     "name": "stdout",
     "output_type": "stream",
     "text": [
      "Accuracy : 0.9019\n"
     ]
    }
   ],
   "source": [
    "final_gbc = GradientBoostingClassifier(learning_rate=0.1, n_estimators=130, subsample=0.5, min_samples_leaf = 90, \\\n",
    "            max_depth=4, min_samples_split=2500, random_state=0)\n",
    "final_gbc.fit(train_samples, train_classes)\n",
    "predict_classes = final_gbc.predict(val_samples)\n",
    "print(\"Accuracy : %0.4f\" % accuracy_score(val_classes, predict_classes))"
   ]
  },
  {
   "cell_type": "markdown",
   "metadata": {},
   "source": [
    "#### Now predict on test samples:"
   ]
  },
  {
   "cell_type": "code",
   "execution_count": 38,
   "metadata": {},
   "outputs": [],
   "source": [
    "test_predicted_classes = final_gbc.predict(test_samples)\n",
    "final_output = pd.DataFrame({'ID' : test_samples.index.values, 'class' : test_predicted_classes})\n",
    "final_output.to_csv(\"submission1.csv\", index=False)"
   ]
  },
  {
   "cell_type": "markdown",
   "metadata": {},
   "source": [
    "### Try XGBOOST "
   ]
  },
  {
   "cell_type": "code",
   "execution_count": 6,
   "metadata": {},
   "outputs": [
    {
     "name": "stderr",
     "output_type": "stream",
     "text": [
      "C:\\Users\\nrgurram\\Anaconda3\\lib\\site-packages\\sklearn\\cross_validation.py:41: DeprecationWarning: This module was deprecated in version 0.18 in favor of the model_selection module into which all the refactored classes and functions are moved. Also note that the interface of the new CV iterators are different from that of this module. This module will be removed in 0.20.\n",
      "  \"This module will be removed in 0.20.\", DeprecationWarning)\n"
     ]
    }
   ],
   "source": [
    "import xgboost as xgb"
   ]
  },
  {
   "cell_type": "code",
   "execution_count": 11,
   "metadata": {},
   "outputs": [
    {
     "name": "stdout",
     "output_type": "stream",
     "text": [
      "Accuracy : 0.9032\n"
     ]
    }
   ],
   "source": [
    "xgb_tree = xgb.XGBClassifier(max_depth=4, n_estimators=140, learning_rate=0.3)\n",
    "xgb_tree.fit(np.asmatrix(train_samples), train_classes)\n",
    "predict_classes = xgb_tree.predict(np.asmatrix(val_samples))\n",
    "print(\"Accuracy : %0.4f\" % accuracy_score(val_classes, predict_classes))"
   ]
  },
  {
   "cell_type": "code",
   "execution_count": 77,
   "metadata": {},
   "outputs": [
    {
     "name": "stderr",
     "output_type": "stream",
     "text": [
      "C:\\Users\\nrgurram\\Anaconda3\\lib\\site-packages\\sklearn\\preprocessing\\label.py:151: DeprecationWarning: The truth value of an empty array is ambiguous. Returning False, but in future this will result in an error. Use `array.size > 0` to check that an array is not empty.\n",
      "  if diff:\n"
     ]
    }
   ],
   "source": [
    "test_predicted_classes = xgb_tree.predict(np.asmatrix(test_samples))\n",
    "final_output = pd.DataFrame({'ID' : test_samples.index.values, 'class' : test_predicted_classes})\n",
    "final_output.to_csv(\"submission2.csv\", index=False)"
   ]
  },
  {
   "cell_type": "code",
   "execution_count": null,
   "metadata": {},
   "outputs": [],
   "source": []
  }
 ],
 "metadata": {
  "kernelspec": {
   "display_name": "Python 3",
   "language": "python",
   "name": "python3"
  },
  "language_info": {
   "codemirror_mode": {
    "name": "ipython",
    "version": 3
   },
   "file_extension": ".py",
   "mimetype": "text/x-python",
   "name": "python",
   "nbconvert_exporter": "python",
   "pygments_lexer": "ipython3",
   "version": "3.6.5"
  }
 },
 "nbformat": 4,
 "nbformat_minor": 2
}
