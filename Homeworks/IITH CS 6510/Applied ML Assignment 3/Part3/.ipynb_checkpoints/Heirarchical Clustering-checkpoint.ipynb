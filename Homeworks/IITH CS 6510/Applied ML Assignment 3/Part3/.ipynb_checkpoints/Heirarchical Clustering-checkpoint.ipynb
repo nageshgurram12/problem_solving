{
 "cells": [
  {
   "cell_type": "markdown",
   "metadata": {},
   "source": [
    "Convert given distance matrix into a vector:"
   ]
  },
  {
   "cell_type": "code",
   "execution_count": 15,
   "metadata": {},
   "outputs": [],
   "source": [
    "distances = [0.12, 0.51, 0.84, 0.28, 0.34, 0.25, 0.16, 0.77, 0.61, 0.14, 0.70, 0.93, 0.45, 0.20, 0.67]"
   ]
  },
  {
   "cell_type": "code",
   "execution_count": 16,
   "metadata": {},
   "outputs": [],
   "source": [
    "from scipy.cluster.hierarchy import dendrogram, linkage\n",
    "from matplotlib import pyplot as plt"
   ]
  },
  {
   "cell_type": "markdown",
   "metadata": {},
   "source": [
    "a. Plot dendogram with single link method (by taking min distance between clusters to update proximity matrix)"
   ]
  },
  {
   "cell_type": "code",
   "execution_count": 26,
   "metadata": {},
   "outputs": [
    {
     "data": {
      "text/plain": [
       "array([[ 0.  ,  1.  ,  0.12,  2.  ],\n",
       "       [ 2.  ,  3.  ,  0.14,  2.  ],\n",
       "       [ 6.  ,  7.  ,  0.16,  4.  ],\n",
       "       [ 5.  ,  8.  ,  0.2 ,  5.  ],\n",
       "       [ 4.  ,  9.  ,  0.28,  6.  ]])"
      ]
     },
     "execution_count": 26,
     "metadata": {},
     "output_type": "execute_result"
    }
   ],
   "source": [
    "clusters_linkage = linkage(distances, 'single')\n",
    "clusters_linkage"
   ]
  },
  {
   "cell_type": "code",
   "execution_count": 23,
   "metadata": {},
   "outputs": [
    {
     "data": {
      "image/png": "[encoded data removed]",
      "text/plain": [
       "<Figure size 360x360 with 1 Axes>"
      ]
     },
     "metadata": {},
     "output_type": "display_data"
    }
   ],
   "source": [
    "fig = plt.figure(figsize=(5,5))\n",
    "dn = dendrogram(clusters_linkage)"
   ]
  },
  {
   "cell_type": "markdown",
   "metadata": {},
   "source": [
    "b. Plot dendogram with complete link method (by taking max distance between clusters to update proximity matrix)"
   ]
  },
  {
   "cell_type": "code",
   "execution_count": 24,
   "metadata": {},
   "outputs": [
    {
     "data": {
      "text/plain": [
       "array([[ 0.  ,  1.  ,  0.12,  2.  ],\n",
       "       [ 2.  ,  3.  ,  0.14,  2.  ],\n",
       "       [ 5.  ,  6.  ,  0.61,  3.  ],\n",
       "       [ 4.  ,  7.  ,  0.7 ,  3.  ],\n",
       "       [ 8.  ,  9.  ,  0.93,  6.  ]])"
      ]
     },
     "execution_count": 24,
     "metadata": {},
     "output_type": "execute_result"
    }
   ],
   "source": [
    "clusters_linkage = linkage(distances, 'complete')\n",
    "clusters_linkage"
   ]
  },
  {
   "cell_type": "code",
   "execution_count": 25,
   "metadata": {},
   "outputs": [
    {
     "data": {
      "image/png": "[encoded data removed]",
      "text/plain": [
       "<Figure size 360x360 with 1 Axes>"
      ]
     },
     "metadata": {},
     "output_type": "display_data"
    }
   ],
   "source": [
    "fig = plt.figure(figsize=(5,5))\n",
    "dn = dendrogram(clusters_linkage)"
   ]
  },
  {
   "cell_type": "markdown",
   "metadata": {},
   "source": [
    "Based on derivation in the hand written notes, lets change values 0.84 to less than 0.61 and 0.93 to less than 0.67 and see:"
   ]
  },
  {
   "cell_type": "code",
   "execution_count": 27,
   "metadata": {},
   "outputs": [
    {
     "data": {
      "text/plain": [
       "array([[ 0.  ,  1.  ,  0.12,  2.  ],\n",
       "       [ 2.  ,  3.  ,  0.14,  2.  ],\n",
       "       [ 6.  ,  7.  ,  0.6 ,  4.  ],\n",
       "       [ 5.  ,  8.  ,  0.66,  5.  ],\n",
       "       [ 4.  ,  9.  ,  0.77,  6.  ]])"
      ]
     },
     "execution_count": 27,
     "metadata": {},
     "output_type": "execute_result"
    }
   ],
   "source": [
    "distances = [0.12, 0.51, 0.60, 0.28, 0.34, 0.25, 0.16, 0.77, 0.61, 0.14, 0.70, 0.66, 0.45, 0.20, 0.67]\n",
    "clusters_linkage = linkage(distances, 'complete')\n",
    "clusters_linkage"
   ]
  },
  {
   "cell_type": "markdown",
   "metadata": {},
   "source": [
    "As we can see linkage between clusters is same as 'single' method\n",
    "\n",
    "Lets plot dendogram and compare:"
   ]
  },
  {
   "cell_type": "code",
   "execution_count": 28,
   "metadata": {},
   "outputs": [
    {
     "data": {
      "image/png": "[encoded data removed]",
      "text/plain": [
       "<Figure size 360x360 with 1 Axes>"
      ]
     },
     "metadata": {},
     "output_type": "display_data"
    }
   ],
   "source": [
    "fig = plt.figure(figsize=(5,5))\n",
    "dn = dendrogram(clusters_linkage)"
   ]
  },
  {
   "cell_type": "code",
   "execution_count": null,
   "metadata": {},
   "outputs": [],
   "source": []
  }
 ],
 "metadata": {
  "kernelspec": {
   "display_name": "Python 3",
   "language": "python",
   "name": "python3"
  },
  "language_info": {
   "codemirror_mode": {
    "name": "ipython",
    "version": 3
   },
   "file_extension": ".py",
   "mimetype": "text/x-python",
   "name": "python",
   "nbconvert_exporter": "python",
   "pygments_lexer": "ipython3",
   "version": "3.6.5"
  }
 },
 "nbformat": 4,
 "nbformat_minor": 2
}
