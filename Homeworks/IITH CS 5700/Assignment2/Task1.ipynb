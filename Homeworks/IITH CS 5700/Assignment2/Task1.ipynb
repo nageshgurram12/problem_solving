{
 "cells": [
  {
   "cell_type": "markdown",
   "metadata": {},
   "source": [
    "<h3>\n",
    "Data Analysis for given datasets:\n",
    "</h3>"
   ]
  },
  {
   "cell_type": "code",
   "execution_count": 62,
   "metadata": {},
   "outputs": [],
   "source": [
    "import csv\n",
    "import string\n",
    "from nltk.tokenize import word_tokenize\n",
    "from nltk import FreqDist\n",
    "from nltk.corpus import stopwords\n",
    "import numpy as np\n",
    "import matplotlib.pyplot as plt"
   ]
  },
  {
   "cell_type": "code",
   "execution_count": 63,
   "metadata": {},
   "outputs": [],
   "source": [
    "data_file1 = \"./data/D1.csv\"; # filepath for data1\n",
    "data_file2 = \"./data/D2.csv\"; # filepath for data2\n",
    "\n",
    "stopwords_set = set(stopwords.words('english'))"
   ]
  },
  {
   "cell_type": "markdown",
   "metadata": {},
   "source": [
    "<h4> Step1: </h4>\n",
    "<p>Remove special characters in the data and tokenize.</p>"
   ]
  },
  {
   "cell_type": "code",
   "execution_count": 64,
   "metadata": {},
   "outputs": [],
   "source": [
    "def read_data(file):\n",
    "  '''\n",
    "  Read the csv file and return a string for each post\n",
    "  '''\n",
    "  all_posts = [];\n",
    "  with open(file, \"rt\", encoding=\"utf8\") as datafile:\n",
    "    next(datafile)\n",
    "    csvreader = csv.reader(datafile)\n",
    "    for row in csvreader:\n",
    "      all_posts.append(\", \".join(row))\n",
    "  return all_posts\n",
    "\n",
    "def tokenize(corpus, stop_words=False):\n",
    "  '''\n",
    "  tokenize by removing special characters and punctuation marks\n",
    "  '''\n",
    "  corpus_tokens = []\n",
    "  for doc in corpus:\n",
    "    doc = doc.lower()\n",
    "    #remove the punctuation using the character deletion step of translate\n",
    "    no_punctuation = doc.translate(str.maketrans('','', string.punctuation))\n",
    "    text_tokens = list(word_tokenize(no_punctuation))\n",
    "    if stop_words:\n",
    "      text_tokens = filter(lambda token: token not in stopwords_set, text_tokens)\n",
    "    corpus_tokens.append(text_tokens)\n",
    "  \n",
    "  return corpus_tokens"
   ]
  },
  {
   "cell_type": "code",
   "execution_count": 65,
   "metadata": {},
   "outputs": [],
   "source": [
    "raw_data1 = read_data(data_file1)\n",
    "raw_data2 = read_data(data_file2)\n",
    "\n",
    "corpus1 = tokenize(raw_data1)\n",
    "corpus2 = tokenize(raw_data2)"
   ]
  },
  {
   "cell_type": "markdown",
   "metadata": {},
   "source": [
    "<h4> Step2: </h4>\n",
    "\n",
    "<p> Analyze the most and less frequent tokens entire corpus.</p>\n",
    "<p> Instead of considering last k frequent, we consider a fixed head size and then see bottom k of it. </p>"
   ]
  },
  {
   "cell_type": "code",
   "execution_count": 66,
   "metadata": {},
   "outputs": [],
   "source": [
    "def count_analysis(corpus, head=10000, k=10):\n",
    "  '''\n",
    "  Create a frequency distribution and give the\n",
    "  1. Number of unique tokens\n",
    "  2. top k tokens based on frequency\n",
    "  3. bottom k tokens in top 'head' tokens\n",
    "  '''\n",
    "  data = [token for doc in corpus for token in doc] # Create one big list for entire corpus\n",
    "  \n",
    "  print(\"Total number of tokens: \" + str(len(data)))\n",
    "  \n",
    "  fdist = FreqDist(data)\n",
    "  print(\"Number of unique tokens in data: \" + str(len(fdist)))\n",
    "  \n",
    "  print(\"Top {} tokens based on frequency : {} \\n\".format(k,str(fdist.most_common(k))))\n",
    "  \n",
    "  bottom_k_top_head = fdist.most_common(head)[-k:]\n",
    "  print(\"Bottom {} tokens in top {} : {} \\n\".format(k,head,str(bottom_k_top_head)))"
   ]
  },
  {
   "cell_type": "markdown",
   "metadata": {},
   "source": [
    "<h4> Observations: </h4>\n",
    "<ol>\n",
    "<li> By trail and error, we can see that for 20,000 head size in dataset1 and for 70,000 head size in dataset2, all words occured only once in entire corpus. </li>\n",
    "    <li> We can also observe that all frequent words are stop words </li>\n",
    "</ol>"
   ]
  },
  {
   "cell_type": "code",
   "execution_count": 45,
   "metadata": {},
   "outputs": [
    {
     "name": "stdout",
     "output_type": "stream",
     "text": [
      "\n",
      " -- Token Analysis for dataset 1: -- \n",
      "\n",
      "Total number of tokens: 472014\n",
      "Number of unique tokens in data: 36838\n",
      "Top 10 tokens based on frequency : [('the', 22381), ('to', 13581), ('a', 12981), ('of', 10976), ('and', 8751), ('is', 8487), ('in', 7008), ('i', 6755), ('that', 5348), ('for', 4967)] \n",
      "\n",
      "Bottom 10 tokens in top 20000 : [('poc', 1), ('costfunction', 1), ('overexposure', 1), ('ebook', 1), ('hrefhttpsgistgithubcomhartgerv50ccdb999393eb1fd2b50725e14cd0fa', 1), ('noreferrermost', 1), ('commmon', 1), ('tokensa', 1), ('professorsresearchers', 1), ('codefcncode', 1)] \n",
      "\n",
      "\n",
      " -- Token Analysis for dataset 2: -- \n",
      "\n",
      "Total number of tokens: 5552409\n",
      "Number of unique tokens in data: 179877\n",
      "Top 10 tokens based on frequency : [('the', 221112), ('to', 185618), ('i', 173353), ('a', 114690), ('and', 101861), ('it', 86040), ('is', 82292), ('my', 81074), ('on', 64451), ('in', 57777)] \n",
      "\n",
      "Bottom 10 tokens in top 70000 : [('gids3002', 1), ('xx3115953', 1), ('upgraderreceiver', 1), ('cacheblurversion45608a956verizonenuszip', 1), ('bootcommand', 1), ('23103', 1), ('disalbedm', 1), ('1340', 1), ('shutdownthread', 1), ('shutdownm', 1)] \n",
      "\n"
     ]
    }
   ],
   "source": [
    "print(\"\\n -- Token Analysis for dataset 1: -- \\n\")\n",
    "count_analysis(corpus1, head=20000)\n",
    "\n",
    "print(\"\\n -- Token Analysis for dataset 2: -- \\n\")\n",
    "count_analysis(corpus2, head=70000)"
   ]
  },
  {
   "cell_type": "markdown",
   "metadata": {},
   "source": [
    "<p> Lets analyze after removing stop words. </p>"
   ]
  },
  {
   "cell_type": "code",
   "execution_count": 49,
   "metadata": {},
   "outputs": [
    {
     "name": "stdout",
     "output_type": "stream",
     "text": [
      "\n",
      " -- Token Analysis for dataset 1 (after removing stop words): -- \n",
      "\n",
      "Total number of tokens: 277844\n",
      "Number of unique tokens in data: 36700\n",
      "Top 10 tokens based on frequency : [('p', 2116), ('pi', 1921), ('would', 1837), ('ai', 1827), ('learning', 1681), ('neural', 1629), ('network', 1590), ('relnofollow', 1429), ('like', 1275), ('one', 1247)] \n",
      "\n",
      "Bottom 10 tokens in top 15000 : [('alternativelybiased', 1), ('confidentialityp', 1), ('nonmathcs', 1), ('supplements', 1), ('metapost', 1), ('satiate', 1), ('curiositiesp', 1), ('nonmath', 1), ('hrefhttpwwwalicebotorgarticleswallaceelizahtml', 1), ('relnofollowfrom', 1)] \n",
      "\n",
      "\n",
      " -- Token Analysis for dataset 2 (after removing stop words): -- \n",
      "\n",
      "Total number of tokens: 3241068\n",
      "Number of unique tokens in data: 179731\n",
      "Top 10 tokens based on frequency : [('phone', 45625), ('android', 41256), ('pi', 40232), ('app', 25174), ('p', 23686), ('device', 19952), ('google', 18950), ('apps', 16791), ('using', 16197), ('get', 14585)] \n",
      "\n",
      "Bottom 10 tokens in top 60000 : [('pocketbag', 1), ('joggingwalking', 1), ('bagp', 1), ('skyp', 1), ('wifigprsetc', 1), ('permsisions', 1), ('15gs', 1), ('hrefhttpwwwsdcardorgconsumersformatter3', 1), ('relnofollowsdformattera', 1), ('pemnbem', 1)] \n",
      "\n"
     ]
    }
   ],
   "source": [
    "corpus1_wo_stop_words = tokenize(raw_data1, stop_words=True) # Corpus 1 without stop words\n",
    "print(\"\\n -- Token Analysis for dataset 1 (after removing stop words): -- \\n\")\n",
    "count_analysis(corpus1_wo_stop_words, head=15000)\n",
    "\n",
    "corpus2_wo_stop_words = tokenize(raw_data2, stop_words=True) # Corpus 2 without stop words\n",
    "print(\"\\n -- Token Analysis for dataset 2 (after removing stop words): -- \\n\")\n",
    "count_analysis(corpus2_wo_stop_words, head=60000)"
   ]
  },
  {
   "cell_type": "markdown",
   "metadata": {},
   "source": [
    "<h4> Step3: </h4>\n",
    "<p> Analyze the posts(documents) sizes. </p>\n",
    "<p> Plot histogram for the frequency of posts lengths and show the average post length frequency in it. </p>"
   ]
  },
  {
   "cell_type": "code",
   "execution_count": 71,
   "metadata": {},
   "outputs": [],
   "source": [
    "def doc_analysis(corpus, num_bins=100):\n",
    "  post_lengths = list(map(lambda doc: len(doc), corpus))\n",
    "  print(\"length of corpus:\",len(post_lengths),\n",
    "        \"\\naverage post length\", np.average(post_lengths),\n",
    "        \"\\nminimum post length\", min(post_lengths),\n",
    "        \"\\nmaximum post length\", max(post_lengths))\n",
    "  \n",
    "  # plot a histogram of posts length\n",
    "  fig, ax = plt.subplots(figsize=(12,6));\n",
    "  # the histogram of the data\n",
    "  n, bins, patches = ax.hist(post_lengths, num_bins)\n",
    "  print(\"n : \" + str(n))\n",
    "  print(\"bins : \" + str(bins))\n",
    "  ax.set_xlabel('Post Length (tokens)', fontsize=15)\n",
    "  ax.set_ylabel('Frequency', fontsize=15)\n",
    "  ax.grid()\n",
    "  (y_min, y_max) = ax.get_ylim()\n",
    "  ax.plot([np.average(post_lengths) for i in np.linspace(0.0, y_max,100)], np.linspace(0.0,y_max,100), '-',label='average post length')\n",
    "  ax.legend()\n",
    "  ax.grid()\n",
    "  fig.tight_layout()\n",
    "  plt.show()"
   ]
  },
  {
   "cell_type": "markdown",
   "metadata": {},
   "source": [
    "#### Document Length Analysis for Dataset1:"
   ]
  },
  {
   "cell_type": "code",
   "execution_count": 72,
   "metadata": {},
   "outputs": [
    {
     "name": "stdout",
     "output_type": "stream",
     "text": [
      "length of corpus: 3126 \n",
      "average post length 150.99616122840692 \n",
      "minimum post length 14 \n",
      "maximum post length 2409\n",
      "n : [205. 464. 449. 421. 348. 238. 189. 140. 123. 104.  68.  54.  53.  59.\n",
      "  43.  24.  22.  14.  11.  13.  12.  11.   6.  10.   5.   1.   4.   3.\n",
      "   1.   3.   5.   3.   3.   2.   1.   2.   1.   0.   0.   1.   1.   0.\n",
      "   0.   0.   1.   1.   1.   0.   1.   0.   0.   0.   0.   0.   0.   0.\n",
      "   1.   0.   0.   0.   0.   0.   1.   1.   0.   1.   0.   0.   0.   0.\n",
      "   0.   0.   0.   0.   0.   0.   0.   0.   0.   0.   0.   0.   0.   0.\n",
      "   0.   0.   0.   0.   0.   0.   0.   0.   0.   0.   0.   0.   0.   0.\n",
      "   0.   1.]\n",
      "bins : [  14.     37.95   61.9    85.85  109.8   133.75  157.7   181.65  205.6\n",
      "  229.55  253.5   277.45  301.4   325.35  349.3   373.25  397.2   421.15\n",
      "  445.1   469.05  493.    516.95  540.9   564.85  588.8   612.75  636.7\n",
      "  660.65  684.6   708.55  732.5   756.45  780.4   804.35  828.3   852.25\n",
      "  876.2   900.15  924.1   948.05  972.    995.95 1019.9  1043.85 1067.8\n",
      " 1091.75 1115.7  1139.65 1163.6  1187.55 1211.5  1235.45 1259.4  1283.35\n",
      " 1307.3  1331.25 1355.2  1379.15 1403.1  1427.05 1451.   1474.95 1498.9\n",
      " 1522.85 1546.8  1570.75 1594.7  1618.65 1642.6  1666.55 1690.5  1714.45\n",
      " 1738.4  1762.35 1786.3  1810.25 1834.2  1858.15 1882.1  1906.05 1930.\n",
      " 1953.95 1977.9  2001.85 2025.8  2049.75 2073.7  2097.65 2121.6  2145.55\n",
      " 2169.5  2193.45 2217.4  2241.35 2265.3  2289.25 2313.2  2337.15 2361.1\n",
      " 2385.05 2409.  ]\n"
     ]
    },
    {
     "data": {
      "image/png": "[encoded data removed]",
      "text/plain": [
       "<Figure size 864x432 with 1 Axes>"
      ]
     },
     "metadata": {},
     "output_type": "display_data"
    }
   ],
   "source": [
    "doc_analysis(corpus1, num_bins=100)"
   ]
  },
  {
   "cell_type": "markdown",
   "metadata": {},
   "source": [
    "#### Document Length Analysis for Dataset2:"
   ]
  },
  {
   "cell_type": "code",
   "execution_count": 73,
   "metadata": {},
   "outputs": [
    {
     "name": "stdout",
     "output_type": "stream",
     "text": [
      "length of corpus: 49784 \n",
      "average post length 111.52998955487706 \n",
      "minimum post length 10 \n",
      "maximum post length 3533\n",
      "n : [6.8050e+03 1.5479e+04 1.1082e+04 6.5210e+03 3.8620e+03 2.1060e+03\n",
      " 1.2710e+03 8.1100e+02 5.3000e+02 3.6500e+02 2.3800e+02 1.5900e+02\n",
      " 1.1200e+02 8.3000e+01 7.2000e+01 5.2000e+01 3.4000e+01 3.1000e+01\n",
      " 1.9000e+01 1.7000e+01 1.6000e+01 1.6000e+01 1.6000e+01 5.0000e+00\n",
      " 5.0000e+00 9.0000e+00 5.0000e+00 5.0000e+00 7.0000e+00 4.0000e+00\n",
      " 1.0000e+00 2.0000e+00 4.0000e+00 2.0000e+00 1.0000e+00 2.0000e+00\n",
      " 3.0000e+00 3.0000e+00 3.0000e+00 0.0000e+00 0.0000e+00 1.0000e+00\n",
      " 3.0000e+00 3.0000e+00 0.0000e+00 1.0000e+00 0.0000e+00 1.0000e+00\n",
      " 0.0000e+00 1.0000e+00 1.0000e+00 4.0000e+00 0.0000e+00 0.0000e+00\n",
      " 1.0000e+00 1.0000e+00 2.0000e+00 1.0000e+00 0.0000e+00 0.0000e+00\n",
      " 0.0000e+00 0.0000e+00 0.0000e+00 0.0000e+00 0.0000e+00 1.0000e+00\n",
      " 0.0000e+00 0.0000e+00 0.0000e+00 0.0000e+00 0.0000e+00 0.0000e+00\n",
      " 0.0000e+00 1.0000e+00 0.0000e+00 0.0000e+00 0.0000e+00 0.0000e+00\n",
      " 0.0000e+00 1.0000e+00 1.0000e+00 0.0000e+00 0.0000e+00 0.0000e+00\n",
      " 0.0000e+00 0.0000e+00 0.0000e+00 0.0000e+00 0.0000e+00 0.0000e+00\n",
      " 0.0000e+00 0.0000e+00 0.0000e+00 0.0000e+00 1.0000e+00 0.0000e+00\n",
      " 0.0000e+00 0.0000e+00 0.0000e+00 1.0000e+00]\n",
      "bins : [  10.     45.23   80.46  115.69  150.92  186.15  221.38  256.61  291.84\n",
      "  327.07  362.3   397.53  432.76  467.99  503.22  538.45  573.68  608.91\n",
      "  644.14  679.37  714.6   749.83  785.06  820.29  855.52  890.75  925.98\n",
      "  961.21  996.44 1031.67 1066.9  1102.13 1137.36 1172.59 1207.82 1243.05\n",
      " 1278.28 1313.51 1348.74 1383.97 1419.2  1454.43 1489.66 1524.89 1560.12\n",
      " 1595.35 1630.58 1665.81 1701.04 1736.27 1771.5  1806.73 1841.96 1877.19\n",
      " 1912.42 1947.65 1982.88 2018.11 2053.34 2088.57 2123.8  2159.03 2194.26\n",
      " 2229.49 2264.72 2299.95 2335.18 2370.41 2405.64 2440.87 2476.1  2511.33\n",
      " 2546.56 2581.79 2617.02 2652.25 2687.48 2722.71 2757.94 2793.17 2828.4\n",
      " 2863.63 2898.86 2934.09 2969.32 3004.55 3039.78 3075.01 3110.24 3145.47\n",
      " 3180.7  3215.93 3251.16 3286.39 3321.62 3356.85 3392.08 3427.31 3462.54\n",
      " 3497.77 3533.  ]\n"
     ]
    },
    {
     "data": {
      "image/png": "[encoded data removed]",
      "text/plain": [
       "<Figure size 864x432 with 1 Axes>"
      ]
     },
     "metadata": {},
     "output_type": "display_data"
    }
   ],
   "source": [
    "doc_analysis(corpus2, num_bins=100)"
   ]
  },
  {
   "cell_type": "code",
   "execution_count": null,
   "metadata": {},
   "outputs": [],
   "source": []
  }
 ],
 "metadata": {
  "kernelspec": {
   "display_name": "Python 3",
   "language": "python",
   "name": "python3"
  },
  "language_info": {
   "codemirror_mode": {
    "name": "ipython",
    "version": 3
   },
   "file_extension": ".py",
   "mimetype": "text/x-python",
   "name": "python",
   "nbconvert_exporter": "python",
   "pygments_lexer": "ipython3",
   "version": "3.6.8"
  }
 },
 "nbformat": 4,
 "nbformat_minor": 2
}
