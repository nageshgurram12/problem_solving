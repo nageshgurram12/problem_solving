{
 "cells": [
  {
   "cell_type": "code",
   "execution_count": 3,
   "metadata": {},
   "outputs": [],
   "source": [
    "import torch"
   ]
  },
  {
   "cell_type": "markdown",
   "metadata": {},
   "source": [
    "### 1.a "
   ]
  },
  {
   "cell_type": "markdown",
   "metadata": {},
   "source": [
    "<h4><i> 3 types of expressions to slice a tensor </i> </h4>"
   ]
  },
  {
   "cell_type": "code",
   "execution_count": 10,
   "metadata": {},
   "outputs": [
    {
     "name": "stdout",
     "output_type": "stream",
     "text": [
      "tensor([2., 5., 8.])\n",
      "tensor([2., 5., 8.])\n",
      "tensor([2., 5., 8.])\n"
     ]
    },
    {
     "data": {
      "text/plain": [
       "torch.Size([3])"
      ]
     },
     "execution_count": 10,
     "metadata": {},
     "output_type": "execute_result"
    }
   ],
   "source": [
    "t = torch.Tensor([[1,2,3],[4,5,6],[7,8,9]])\n",
    "\n",
    "slice1 = t[:, 1]\n",
    "print(slice1)\n",
    "\n",
    "slice2_mask = torch.tensor([[0,1,0],[0,1,0],[0,1,0]] , dtype=torch.uint8)\n",
    "slice2 = torch.masked_select(t, slice2_mask)\n",
    "print(slice2)\n",
    "\n",
    "slice3 = t.narrow(1, 1, 1).view([3])\n",
    "print(slice3)"
   ]
  },
  {
   "cell_type": "markdown",
   "metadata": {},
   "source": [
    "### 1.b "
   ]
  },
  {
   "attachments": {},
   "cell_type": "markdown",
   "metadata": {},
   "source": [
    "<h4> Tensor : </h4>\n",
    "<p>\n",
    "    In pytorch library Tensor represents a multi dimensional matrix formulation of single data type. There are different types of Tensors that can be created in CPU and GPU in pytorch.\n",
    "</p>\n",
    "\n",
    "<hr/>\n",
    "\n",
    "<h4> Storage : </h4>\n",
    "<p>\n",
    "    torch.Storage represents abstract form of the data in pytorch, so this represents the raw data associated with Tensors and Variables. Every Tensor and Variable will have a Storage associated with them with single data type.\n",
    "</p>\n",
    "\n",
    "<h4> Variable: </h4>\n",
    "<p>\n",
    "    Till PyTorch0.4.0, to get the auto gradients on operations performed a Storage, we need to store that as Variable. When we call .backward() the gradients will be computed using chain rule till the leaf Variable encountered. But with new versions, Variable is deprecated and we can do autograd operations with Tensors too\n",
    "</p>"
   ]
  },
  {
   "cell_type": "code",
   "execution_count": null,
   "metadata": {},
   "outputs": [],
   "source": []
  }
 ],
 "metadata": {
  "kernelspec": {
   "display_name": "Python 3",
   "language": "python",
   "name": "python3"
  },
  "language_info": {
   "codemirror_mode": {
    "name": "ipython",
    "version": 3
   },
   "file_extension": ".py",
   "mimetype": "text/x-python",
   "name": "python",
   "nbconvert_exporter": "python",
   "pygments_lexer": "ipython3",
   "version": "3.6.5"
  }
 },
 "nbformat": 4,
 "nbformat_minor": 2
}
